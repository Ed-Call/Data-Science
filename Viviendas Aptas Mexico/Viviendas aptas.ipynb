{
 "cells": [
  {
   "cell_type": "markdown",
   "id": "3b7f9b4a",
   "metadata": {},
   "source": [
    "# Viviendas adecuadas "
   ]
  },
  {
   "cell_type": "code",
   "execution_count": 1,
   "id": "6e923378",
   "metadata": {},
   "outputs": [],
   "source": [
    "import numpy as np\n",
    "import pandas as pd \n",
    "import matplotlib.pyplot as plt "
   ]
  },
  {
   "cell_type": "code",
   "execution_count": 2,
   "id": "f6ac05f4",
   "metadata": {},
   "outputs": [
    {
     "name": "stdout",
     "output_type": "stream",
     "text": [
      "(300, 30)\n"
     ]
    },
    {
     "data": {
      "text/html": [
       "<div>\n",
       "<style scoped>\n",
       "    .dataframe tbody tr th:only-of-type {\n",
       "        vertical-align: middle;\n",
       "    }\n",
       "\n",
       "    .dataframe tbody tr th {\n",
       "        vertical-align: top;\n",
       "    }\n",
       "\n",
       "    .dataframe thead th {\n",
       "        text-align: right;\n",
       "    }\n",
       "</style>\n",
       "<table border=\"1\" class=\"dataframe\">\n",
       "  <thead>\n",
       "    <tr style=\"text-align: right;\">\n",
       "      <th></th>\n",
       "      <th>NOM_ENT</th>\n",
       "      <th>DISTRITO</th>\n",
       "      <th>VPH_PISODT</th>\n",
       "      <th>VPH_2YMASD</th>\n",
       "      <th>VPH_C_ELEC</th>\n",
       "      <th>VPH_AGUADV</th>\n",
       "      <th>VPH_AEASP</th>\n",
       "      <th>VPH_TINACO</th>\n",
       "      <th>VPH_CISTER</th>\n",
       "      <th>VPH_EXCSA</th>\n",
       "      <th>...</th>\n",
       "      <th>VPH_S_ELEC</th>\n",
       "      <th>VPH_AGUAFV</th>\n",
       "      <th>VPH_NODREN</th>\n",
       "      <th>VPH_NDEAED</th>\n",
       "      <th>VPH_SNBIEN</th>\n",
       "      <th>VPH_TELEF.1</th>\n",
       "      <th>VPH_CVJ</th>\n",
       "      <th>VPH_SINRTV</th>\n",
       "      <th>VPH_SINLTC</th>\n",
       "      <th>VPH_SINCIN</th>\n",
       "    </tr>\n",
       "  </thead>\n",
       "  <tbody>\n",
       "    <tr>\n",
       "      <th>0</th>\n",
       "      <td>Aguascalientes</td>\n",
       "      <td>1</td>\n",
       "      <td>120028</td>\n",
       "      <td>90064</td>\n",
       "      <td>120635</td>\n",
       "      <td>120263</td>\n",
       "      <td>102010</td>\n",
       "      <td>97040</td>\n",
       "      <td>30588</td>\n",
       "      <td>119406</td>\n",
       "      <td>...</td>\n",
       "      <td>776</td>\n",
       "      <td>1146</td>\n",
       "      <td>1580</td>\n",
       "      <td>135</td>\n",
       "      <td>499</td>\n",
       "      <td>32683</td>\n",
       "      <td>14900</td>\n",
       "      <td>2752</td>\n",
       "      <td>8043</td>\n",
       "      <td>54801</td>\n",
       "    </tr>\n",
       "    <tr>\n",
       "      <th>1</th>\n",
       "      <td>Aguascalientes</td>\n",
       "      <td>2</td>\n",
       "      <td>131805</td>\n",
       "      <td>105591</td>\n",
       "      <td>132398</td>\n",
       "      <td>132168</td>\n",
       "      <td>130564</td>\n",
       "      <td>99298</td>\n",
       "      <td>46196</td>\n",
       "      <td>132262</td>\n",
       "      <td>...</td>\n",
       "      <td>244</td>\n",
       "      <td>474</td>\n",
       "      <td>218</td>\n",
       "      <td>22</td>\n",
       "      <td>207</td>\n",
       "      <td>51688</td>\n",
       "      <td>25751</td>\n",
       "      <td>1651</td>\n",
       "      <td>3813</td>\n",
       "      <td>40681</td>\n",
       "    </tr>\n",
       "    <tr>\n",
       "      <th>2</th>\n",
       "      <td>Aguascalientes</td>\n",
       "      <td>3</td>\n",
       "      <td>130801</td>\n",
       "      <td>103486</td>\n",
       "      <td>131328</td>\n",
       "      <td>130999</td>\n",
       "      <td>122618</td>\n",
       "      <td>99565</td>\n",
       "      <td>75737</td>\n",
       "      <td>130929</td>\n",
       "      <td>...</td>\n",
       "      <td>190</td>\n",
       "      <td>517</td>\n",
       "      <td>581</td>\n",
       "      <td>27</td>\n",
       "      <td>170</td>\n",
       "      <td>63447</td>\n",
       "      <td>29475</td>\n",
       "      <td>1618</td>\n",
       "      <td>3467</td>\n",
       "      <td>33514</td>\n",
       "    </tr>\n",
       "    <tr>\n",
       "      <th>3</th>\n",
       "      <td>Baja California</td>\n",
       "      <td>1</td>\n",
       "      <td>147416</td>\n",
       "      <td>106182</td>\n",
       "      <td>148451</td>\n",
       "      <td>148054</td>\n",
       "      <td>135151</td>\n",
       "      <td>3089</td>\n",
       "      <td>1002</td>\n",
       "      <td>139684</td>\n",
       "      <td>...</td>\n",
       "      <td>1005</td>\n",
       "      <td>1398</td>\n",
       "      <td>8129</td>\n",
       "      <td>243</td>\n",
       "      <td>581</td>\n",
       "      <td>70615</td>\n",
       "      <td>29949</td>\n",
       "      <td>4220</td>\n",
       "      <td>5526</td>\n",
       "      <td>44317</td>\n",
       "    </tr>\n",
       "    <tr>\n",
       "      <th>4</th>\n",
       "      <td>Baja California</td>\n",
       "      <td>2</td>\n",
       "      <td>126075</td>\n",
       "      <td>94569</td>\n",
       "      <td>127397</td>\n",
       "      <td>127510</td>\n",
       "      <td>126992</td>\n",
       "      <td>829</td>\n",
       "      <td>609</td>\n",
       "      <td>127082</td>\n",
       "      <td>...</td>\n",
       "      <td>545</td>\n",
       "      <td>421</td>\n",
       "      <td>614</td>\n",
       "      <td>110</td>\n",
       "      <td>412</td>\n",
       "      <td>82630</td>\n",
       "      <td>26747</td>\n",
       "      <td>2815</td>\n",
       "      <td>4302</td>\n",
       "      <td>26120</td>\n",
       "    </tr>\n",
       "  </tbody>\n",
       "</table>\n",
       "<p>5 rows × 30 columns</p>\n",
       "</div>"
      ],
      "text/plain": [
       "          NOM_ENT   DISTRITO  VPH_PISODT  VPH_2YMASD  VPH_C_ELEC  VPH_AGUADV  \\\n",
       "0   Aguascalientes         1      120028       90064      120635      120263   \n",
       "1   Aguascalientes         2      131805      105591      132398      132168   \n",
       "2   Aguascalientes         3      130801      103486      131328      130999   \n",
       "3  Baja California         1      147416      106182      148451      148054   \n",
       "4  Baja California         2      126075       94569      127397      127510   \n",
       "\n",
       "   VPH_AEASP  VPH_TINACO  VPH_CISTER  VPH_EXCSA  ...  VPH_S_ELEC  VPH_AGUAFV  \\\n",
       "0     102010       97040       30588     119406  ...         776        1146   \n",
       "1     130564       99298       46196     132262  ...         244         474   \n",
       "2     122618       99565       75737     130929  ...         190         517   \n",
       "3     135151        3089        1002     139684  ...        1005        1398   \n",
       "4     126992         829         609     127082  ...         545         421   \n",
       "\n",
       "   VPH_NODREN  VPH_NDEAED  VPH_SNBIEN  VPH_TELEF.1  VPH_CVJ  VPH_SINRTV  \\\n",
       "0        1580         135         499        32683    14900        2752   \n",
       "1         218          22         207        51688    25751        1651   \n",
       "2         581          27         170        63447    29475        1618   \n",
       "3        8129         243         581        70615    29949        4220   \n",
       "4         614         110         412        82630    26747        2815   \n",
       "\n",
       "   VPH_SINLTC  VPH_SINCIN  \n",
       "0        8043       54801  \n",
       "1        3813       40681  \n",
       "2        3467       33514  \n",
       "3        5526       44317  \n",
       "4        4302       26120  \n",
       "\n",
       "[5 rows x 30 columns]"
      ]
     },
     "execution_count": 2,
     "metadata": {},
     "output_type": "execute_result"
    }
   ],
   "source": [
    "dataVi = pd.read_csv('./BD_paradigmas.csv',encoding='latin1')\n",
    "print(dataVi.shape)\n",
    "dataVi.head()"
   ]
  },
  {
   "cell_type": "code",
   "execution_count": 3,
   "id": "34adb7cf",
   "metadata": {
    "scrolled": true
   },
   "outputs": [
    {
     "data": {
      "text/plain": [
       "Index(['NOM_ENT ', 'DISTRITO', 'VPH_PISODT', 'VPH_2YMASD', 'VPH_C_ELEC',\n",
       "       'VPH_AGUADV', 'VPH_AEASP', 'VPH_TINACO', 'VPH_CISTER', 'VPH_EXCSA',\n",
       "       'VPH_C_SERV', 'VPH_DSADMA', 'VPH_REFRI', 'VPH_LAVAD', 'VPH_HMICRO',\n",
       "       'VPH_TV', 'VPH_PC', 'VPH_TELEF', 'VPH_CEL', 'VPH_INTER', 'VPH_S_ELEC',\n",
       "       'VPH_AGUAFV', 'VPH_NODREN', 'VPH_NDEAED', 'VPH_SNBIEN', 'VPH_TELEF.1',\n",
       "       'VPH_CVJ', 'VPH_SINRTV', 'VPH_SINLTC', 'VPH_SINCIN'],\n",
       "      dtype='object')"
      ]
     },
     "execution_count": 3,
     "metadata": {},
     "output_type": "execute_result"
    }
   ],
   "source": [
    "dataVi.columns"
   ]
  },
  {
   "cell_type": "markdown",
   "id": "8ddde534",
   "metadata": {},
   "source": [
    "Como identificador unico tomamos el nombre del estado y le agregamos el número de distrito "
   ]
  },
  {
   "cell_type": "code",
   "execution_count": 4,
   "id": "0d5fbf69",
   "metadata": {},
   "outputs": [],
   "source": [
    "dataVi['ID DISTRITO'] = dataVi['NOM_ENT '].map(str) + dataVi['DISTRITO'].astype(str)"
   ]
  },
  {
   "cell_type": "code",
   "execution_count": 5,
   "id": "0fabc107",
   "metadata": {},
   "outputs": [],
   "source": [
    "first_column = dataVi.pop('ID DISTRITO')\n",
    "dataVi.insert(0, 'ID DISTRITO', first_column)\n",
    "dataVi=dataVi.drop(['DISTRITO'], axis=1)"
   ]
  },
  {
   "cell_type": "code",
   "execution_count": 6,
   "id": "1fc7377f",
   "metadata": {
    "scrolled": true
   },
   "outputs": [
    {
     "data": {
      "text/plain": [
       "array(['Aguascalientes', 'Baja California', 'Baja California Sur',\n",
       "       'Campeche', 'Coahuila de Zaragoza', 'Colima', 'Chiapas',\n",
       "       'Chihuahua', 'Ciudad de México', 'Durango', 'Guanajuato',\n",
       "       'Guerrero', 'Hidalgo', 'Jalisco', 'México', 'Michoacán de Ocampo',\n",
       "       'Morelos', 'Nayarit', 'Nuevo León', 'Oaxaca', 'Puebla',\n",
       "       'Querétaro', 'Quintana Roo', 'San Luis Potosí', 'Sinaloa',\n",
       "       'Sonora', 'Tabasco', 'Tamaulipas', 'Tlaxcala',\n",
       "       'Veracruz de Ignacio de la Llave', 'Yucatán', 'Zacatecas'],\n",
       "      dtype=object)"
      ]
     },
     "execution_count": 6,
     "metadata": {},
     "output_type": "execute_result"
    }
   ],
   "source": [
    "dataVi['NOM_ENT '].unique()"
   ]
  },
  {
   "cell_type": "markdown",
   "id": "f47b3968",
   "metadata": {},
   "source": [
    "Ahora nuestra BD tiene un ID DISTRITO y una columna con el nombre de estado para posteriormente sacar conclusiones agrupando los estados."
   ]
  },
  {
   "cell_type": "code",
   "execution_count": 7,
   "id": "5c7d0821",
   "metadata": {
    "scrolled": true
   },
   "outputs": [
    {
     "name": "stdout",
     "output_type": "stream",
     "text": [
      "(300, 30)\n"
     ]
    },
    {
     "data": {
      "text/html": [
       "<div>\n",
       "<style scoped>\n",
       "    .dataframe tbody tr th:only-of-type {\n",
       "        vertical-align: middle;\n",
       "    }\n",
       "\n",
       "    .dataframe tbody tr th {\n",
       "        vertical-align: top;\n",
       "    }\n",
       "\n",
       "    .dataframe thead th {\n",
       "        text-align: right;\n",
       "    }\n",
       "</style>\n",
       "<table border=\"1\" class=\"dataframe\">\n",
       "  <thead>\n",
       "    <tr style=\"text-align: right;\">\n",
       "      <th></th>\n",
       "      <th>ID DISTRITO</th>\n",
       "      <th>NOM_ENT</th>\n",
       "      <th>VPH_PISODT</th>\n",
       "      <th>VPH_2YMASD</th>\n",
       "      <th>VPH_C_ELEC</th>\n",
       "      <th>VPH_AGUADV</th>\n",
       "      <th>VPH_AEASP</th>\n",
       "      <th>VPH_TINACO</th>\n",
       "      <th>VPH_CISTER</th>\n",
       "      <th>VPH_EXCSA</th>\n",
       "      <th>...</th>\n",
       "      <th>VPH_S_ELEC</th>\n",
       "      <th>VPH_AGUAFV</th>\n",
       "      <th>VPH_NODREN</th>\n",
       "      <th>VPH_NDEAED</th>\n",
       "      <th>VPH_SNBIEN</th>\n",
       "      <th>VPH_TELEF.1</th>\n",
       "      <th>VPH_CVJ</th>\n",
       "      <th>VPH_SINRTV</th>\n",
       "      <th>VPH_SINLTC</th>\n",
       "      <th>VPH_SINCIN</th>\n",
       "    </tr>\n",
       "  </thead>\n",
       "  <tbody>\n",
       "    <tr>\n",
       "      <th>0</th>\n",
       "      <td>Aguascalientes1</td>\n",
       "      <td>Aguascalientes</td>\n",
       "      <td>120028</td>\n",
       "      <td>90064</td>\n",
       "      <td>120635</td>\n",
       "      <td>120263</td>\n",
       "      <td>102010</td>\n",
       "      <td>97040</td>\n",
       "      <td>30588</td>\n",
       "      <td>119406</td>\n",
       "      <td>...</td>\n",
       "      <td>776</td>\n",
       "      <td>1146</td>\n",
       "      <td>1580</td>\n",
       "      <td>135</td>\n",
       "      <td>499</td>\n",
       "      <td>32683</td>\n",
       "      <td>14900</td>\n",
       "      <td>2752</td>\n",
       "      <td>8043</td>\n",
       "      <td>54801</td>\n",
       "    </tr>\n",
       "    <tr>\n",
       "      <th>1</th>\n",
       "      <td>Aguascalientes2</td>\n",
       "      <td>Aguascalientes</td>\n",
       "      <td>131805</td>\n",
       "      <td>105591</td>\n",
       "      <td>132398</td>\n",
       "      <td>132168</td>\n",
       "      <td>130564</td>\n",
       "      <td>99298</td>\n",
       "      <td>46196</td>\n",
       "      <td>132262</td>\n",
       "      <td>...</td>\n",
       "      <td>244</td>\n",
       "      <td>474</td>\n",
       "      <td>218</td>\n",
       "      <td>22</td>\n",
       "      <td>207</td>\n",
       "      <td>51688</td>\n",
       "      <td>25751</td>\n",
       "      <td>1651</td>\n",
       "      <td>3813</td>\n",
       "      <td>40681</td>\n",
       "    </tr>\n",
       "    <tr>\n",
       "      <th>2</th>\n",
       "      <td>Aguascalientes3</td>\n",
       "      <td>Aguascalientes</td>\n",
       "      <td>130801</td>\n",
       "      <td>103486</td>\n",
       "      <td>131328</td>\n",
       "      <td>130999</td>\n",
       "      <td>122618</td>\n",
       "      <td>99565</td>\n",
       "      <td>75737</td>\n",
       "      <td>130929</td>\n",
       "      <td>...</td>\n",
       "      <td>190</td>\n",
       "      <td>517</td>\n",
       "      <td>581</td>\n",
       "      <td>27</td>\n",
       "      <td>170</td>\n",
       "      <td>63447</td>\n",
       "      <td>29475</td>\n",
       "      <td>1618</td>\n",
       "      <td>3467</td>\n",
       "      <td>33514</td>\n",
       "    </tr>\n",
       "    <tr>\n",
       "      <th>3</th>\n",
       "      <td>Baja California1</td>\n",
       "      <td>Baja California</td>\n",
       "      <td>147416</td>\n",
       "      <td>106182</td>\n",
       "      <td>148451</td>\n",
       "      <td>148054</td>\n",
       "      <td>135151</td>\n",
       "      <td>3089</td>\n",
       "      <td>1002</td>\n",
       "      <td>139684</td>\n",
       "      <td>...</td>\n",
       "      <td>1005</td>\n",
       "      <td>1398</td>\n",
       "      <td>8129</td>\n",
       "      <td>243</td>\n",
       "      <td>581</td>\n",
       "      <td>70615</td>\n",
       "      <td>29949</td>\n",
       "      <td>4220</td>\n",
       "      <td>5526</td>\n",
       "      <td>44317</td>\n",
       "    </tr>\n",
       "    <tr>\n",
       "      <th>4</th>\n",
       "      <td>Baja California2</td>\n",
       "      <td>Baja California</td>\n",
       "      <td>126075</td>\n",
       "      <td>94569</td>\n",
       "      <td>127397</td>\n",
       "      <td>127510</td>\n",
       "      <td>126992</td>\n",
       "      <td>829</td>\n",
       "      <td>609</td>\n",
       "      <td>127082</td>\n",
       "      <td>...</td>\n",
       "      <td>545</td>\n",
       "      <td>421</td>\n",
       "      <td>614</td>\n",
       "      <td>110</td>\n",
       "      <td>412</td>\n",
       "      <td>82630</td>\n",
       "      <td>26747</td>\n",
       "      <td>2815</td>\n",
       "      <td>4302</td>\n",
       "      <td>26120</td>\n",
       "    </tr>\n",
       "  </tbody>\n",
       "</table>\n",
       "<p>5 rows × 30 columns</p>\n",
       "</div>"
      ],
      "text/plain": [
       "        ID DISTRITO         NOM_ENT   VPH_PISODT  VPH_2YMASD  VPH_C_ELEC  \\\n",
       "0   Aguascalientes1   Aguascalientes      120028       90064      120635   \n",
       "1   Aguascalientes2   Aguascalientes      131805      105591      132398   \n",
       "2   Aguascalientes3   Aguascalientes      130801      103486      131328   \n",
       "3  Baja California1  Baja California      147416      106182      148451   \n",
       "4  Baja California2  Baja California      126075       94569      127397   \n",
       "\n",
       "   VPH_AGUADV  VPH_AEASP  VPH_TINACO  VPH_CISTER  VPH_EXCSA  ...  VPH_S_ELEC  \\\n",
       "0      120263     102010       97040       30588     119406  ...         776   \n",
       "1      132168     130564       99298       46196     132262  ...         244   \n",
       "2      130999     122618       99565       75737     130929  ...         190   \n",
       "3      148054     135151        3089        1002     139684  ...        1005   \n",
       "4      127510     126992         829         609     127082  ...         545   \n",
       "\n",
       "   VPH_AGUAFV  VPH_NODREN  VPH_NDEAED  VPH_SNBIEN  VPH_TELEF.1  VPH_CVJ  \\\n",
       "0        1146        1580         135         499        32683    14900   \n",
       "1         474         218          22         207        51688    25751   \n",
       "2         517         581          27         170        63447    29475   \n",
       "3        1398        8129         243         581        70615    29949   \n",
       "4         421         614         110         412        82630    26747   \n",
       "\n",
       "   VPH_SINRTV  VPH_SINLTC  VPH_SINCIN  \n",
       "0        2752        8043       54801  \n",
       "1        1651        3813       40681  \n",
       "2        1618        3467       33514  \n",
       "3        4220        5526       44317  \n",
       "4        2815        4302       26120  \n",
       "\n",
       "[5 rows x 30 columns]"
      ]
     },
     "execution_count": 7,
     "metadata": {},
     "output_type": "execute_result"
    }
   ],
   "source": [
    "print(dataVi.shape)\n",
    "dataVi.head()"
   ]
  },
  {
   "cell_type": "markdown",
   "id": "e3a495d8",
   "metadata": {},
   "source": [
    "Empezamos modelacion de los datos "
   ]
  },
  {
   "cell_type": "code",
   "execution_count": 8,
   "id": "35b00f71",
   "metadata": {},
   "outputs": [],
   "source": [
    "# Estandarizamos los datos \n",
    "from sklearn.preprocessing import StandardScaler\n",
    "sc = StandardScaler()\n",
    "X_std = sc.fit_transform(dataVi.iloc[:,2:].values)\n"
   ]
  },
  {
   "cell_type": "code",
   "execution_count": 9,
   "id": "e6a6f978",
   "metadata": {},
   "outputs": [],
   "source": [
    "# Reducción de dimensionalidad \n",
    "from sklearn.decomposition import PCA\n",
    "pca = PCA(n_components=2)\n",
    "X_pca = pca.fit_transform(X_std)"
   ]
  },
  {
   "cell_type": "code",
   "execution_count": 10,
   "id": "8e55d3ec",
   "metadata": {},
   "outputs": [],
   "source": [
    "# K Medias \n",
    "from sklearn.cluster import KMeans\n",
    "km = KMeans(n_clusters=2, random_state=123)\n",
    "km = km.fit(X_pca)\n",
    "y_hat = km.predict(X_pca)\n",
    "C = km.cluster_centers_\n",
    "etiquetas = km.labels_"
   ]
  },
  {
   "cell_type": "code",
   "execution_count": 11,
   "id": "4c2d1b5f",
   "metadata": {},
   "outputs": [
    {
     "data": {
      "image/png": "[encoded data removed]",
      "text/plain": [
       "<Figure size 864x576 with 1 Axes>"
      ]
     },
     "metadata": {
      "needs_background": "light"
     },
     "output_type": "display_data"
    }
   ],
   "source": [
    "plt.figure(figsize=(12,8))\n",
    "plt.scatter(X_pca[etiquetas==0,0],X_pca[etiquetas==0,1],color='red',label='vivienda no apta')\n",
    "plt.scatter(X_pca[etiquetas==1,0],X_pca[etiquetas==1,1],c='g',label='vivienda apta')\n",
    "plt.scatter(C[:,0],C[:,1], marker='*', s=200, c='k',label='centroides')\n",
    "plt.legend(loc='best')\n",
    "#plt.savefig('./imagenes/kmeans.png',dpi=300)\n",
    "plt.show()"
   ]
  },
  {
   "cell_type": "code",
   "execution_count": 12,
   "id": "8c890543",
   "metadata": {
    "scrolled": false
   },
   "outputs": [
    {
     "name": "stdout",
     "output_type": "stream",
     "text": [
      "Vivienda no apta 129\n",
      "Vivienda apta 171\n"
     ]
    }
   ],
   "source": [
    "print('Vivienda no apta',dataVi[etiquetas==0].shape[0])\n",
    "print('Vivienda apta',dataVi[etiquetas==1].shape[0])"
   ]
  },
  {
   "cell_type": "code",
   "execution_count": 13,
   "id": "34a71320",
   "metadata": {
    "scrolled": true
   },
   "outputs": [
    {
     "data": {
      "image/png": "[encoded data removed]",
      "text/plain": [
       "<Figure size 1080x360 with 1 Axes>"
      ]
     },
     "metadata": {
      "needs_background": "light"
     },
     "output_type": "display_data"
    }
   ],
   "source": [
    "VNA = dataVi[etiquetas==0].groupby('NOM_ENT ')['ID DISTRITO'].nunique()\n",
    "VA = dataVi[etiquetas==1].groupby('NOM_ENT ')['ID DISTRITO'].nunique()\n",
    "DFV = pd.concat([VNA, VA], axis=1)\n",
    "DFV.columns=['VNA', 'VA']\n",
    "fig = DFV.plot(kind = 'bar',figsize=(15,5),color={'VNA': \"red\", 'VA': \"blue\"}).get_figure()\n",
    "#fig.savefig('./imagenes/AyNA_PorEstado.png',dpi=300,bbox_inches='tight')\n",
    "\n"
   ]
  },
  {
   "cell_type": "code",
   "execution_count": 14,
   "id": "ccac8033",
   "metadata": {},
   "outputs": [
    {
     "data": {
      "image/png": "[encoded data removed]",
      "text/plain": [
       "<Figure size 1080x360 with 1 Axes>"
      ]
     },
     "metadata": {
      "needs_background": "light"
     },
     "output_type": "display_data"
    }
   ],
   "source": [
    "fig = DFV.plot(kind = 'bar',figsize=(15,5),color={'VNA': \"red\", 'VA': \"blue\"},stacked=True).get_figure()\n",
    "#fig.savefig('./imagenes/AyNA_PorEstado2.png',dpi=300,bbox_inches='tight')"
   ]
  },
  {
   "cell_type": "code",
   "execution_count": 15,
   "id": "f5877f92",
   "metadata": {},
   "outputs": [
    {
     "data": {
      "text/html": [
       "<div>\n",
       "<style scoped>\n",
       "    .dataframe tbody tr th:only-of-type {\n",
       "        vertical-align: middle;\n",
       "    }\n",
       "\n",
       "    .dataframe tbody tr th {\n",
       "        vertical-align: top;\n",
       "    }\n",
       "\n",
       "    .dataframe thead th {\n",
       "        text-align: right;\n",
       "    }\n",
       "</style>\n",
       "<table border=\"1\" class=\"dataframe\">\n",
       "  <thead>\n",
       "    <tr style=\"text-align: right;\">\n",
       "      <th></th>\n",
       "      <th>VNA</th>\n",
       "      <th>VA</th>\n",
       "    </tr>\n",
       "    <tr>\n",
       "      <th>NOM_ENT</th>\n",
       "      <th></th>\n",
       "      <th></th>\n",
       "    </tr>\n",
       "  </thead>\n",
       "  <tbody>\n",
       "    <tr>\n",
       "      <th>Campeche</th>\n",
       "      <td>1.0</td>\n",
       "      <td>1.0</td>\n",
       "    </tr>\n",
       "    <tr>\n",
       "      <th>Chiapas</th>\n",
       "      <td>12.0</td>\n",
       "      <td>1.0</td>\n",
       "    </tr>\n",
       "    <tr>\n",
       "      <th>Chihuahua</th>\n",
       "      <td>2.0</td>\n",
       "      <td>7.0</td>\n",
       "    </tr>\n",
       "    <tr>\n",
       "      <th>Colima</th>\n",
       "      <td>1.0</td>\n",
       "      <td>1.0</td>\n",
       "    </tr>\n",
       "    <tr>\n",
       "      <th>Durango</th>\n",
       "      <td>1.0</td>\n",
       "      <td>3.0</td>\n",
       "    </tr>\n",
       "    <tr>\n",
       "      <th>Guanajuato</th>\n",
       "      <td>10.0</td>\n",
       "      <td>5.0</td>\n",
       "    </tr>\n",
       "    <tr>\n",
       "      <th>Guerrero</th>\n",
       "      <td>9.0</td>\n",
       "      <td>NaN</td>\n",
       "    </tr>\n",
       "    <tr>\n",
       "      <th>Hidalgo</th>\n",
       "      <td>4.0</td>\n",
       "      <td>3.0</td>\n",
       "    </tr>\n",
       "    <tr>\n",
       "      <th>Jalisco</th>\n",
       "      <td>4.0</td>\n",
       "      <td>16.0</td>\n",
       "    </tr>\n",
       "    <tr>\n",
       "      <th>Michoacán de Ocampo</th>\n",
       "      <td>9.0</td>\n",
       "      <td>3.0</td>\n",
       "    </tr>\n",
       "    <tr>\n",
       "      <th>Morelos</th>\n",
       "      <td>3.0</td>\n",
       "      <td>2.0</td>\n",
       "    </tr>\n",
       "    <tr>\n",
       "      <th>México</th>\n",
       "      <td>13.0</td>\n",
       "      <td>28.0</td>\n",
       "    </tr>\n",
       "    <tr>\n",
       "      <th>Nayarit</th>\n",
       "      <td>1.0</td>\n",
       "      <td>2.0</td>\n",
       "    </tr>\n",
       "    <tr>\n",
       "      <th>Nuevo León</th>\n",
       "      <td>2.0</td>\n",
       "      <td>10.0</td>\n",
       "    </tr>\n",
       "    <tr>\n",
       "      <th>Oaxaca</th>\n",
       "      <td>9.0</td>\n",
       "      <td>1.0</td>\n",
       "    </tr>\n",
       "    <tr>\n",
       "      <th>Puebla</th>\n",
       "      <td>10.0</td>\n",
       "      <td>5.0</td>\n",
       "    </tr>\n",
       "    <tr>\n",
       "      <th>Querétaro</th>\n",
       "      <td>1.0</td>\n",
       "      <td>4.0</td>\n",
       "    </tr>\n",
       "    <tr>\n",
       "      <th>Quintana Roo</th>\n",
       "      <td>1.0</td>\n",
       "      <td>3.0</td>\n",
       "    </tr>\n",
       "    <tr>\n",
       "      <th>San Luis Potosí</th>\n",
       "      <td>4.0</td>\n",
       "      <td>3.0</td>\n",
       "    </tr>\n",
       "    <tr>\n",
       "      <th>Sinaloa</th>\n",
       "      <td>2.0</td>\n",
       "      <td>5.0</td>\n",
       "    </tr>\n",
       "    <tr>\n",
       "      <th>Sonora</th>\n",
       "      <td>2.0</td>\n",
       "      <td>5.0</td>\n",
       "    </tr>\n",
       "    <tr>\n",
       "      <th>Tabasco</th>\n",
       "      <td>4.0</td>\n",
       "      <td>2.0</td>\n",
       "    </tr>\n",
       "    <tr>\n",
       "      <th>Tamaulipas</th>\n",
       "      <td>2.0</td>\n",
       "      <td>7.0</td>\n",
       "    </tr>\n",
       "    <tr>\n",
       "      <th>Tlaxcala</th>\n",
       "      <td>3.0</td>\n",
       "      <td>NaN</td>\n",
       "    </tr>\n",
       "    <tr>\n",
       "      <th>Veracruz de Ignacio de la Llave</th>\n",
       "      <td>14.0</td>\n",
       "      <td>6.0</td>\n",
       "    </tr>\n",
       "    <tr>\n",
       "      <th>Yucatán</th>\n",
       "      <td>2.0</td>\n",
       "      <td>3.0</td>\n",
       "    </tr>\n",
       "    <tr>\n",
       "      <th>Zacatecas</th>\n",
       "      <td>3.0</td>\n",
       "      <td>1.0</td>\n",
       "    </tr>\n",
       "    <tr>\n",
       "      <th>Aguascalientes</th>\n",
       "      <td>NaN</td>\n",
       "      <td>3.0</td>\n",
       "    </tr>\n",
       "    <tr>\n",
       "      <th>Baja California</th>\n",
       "      <td>NaN</td>\n",
       "      <td>8.0</td>\n",
       "    </tr>\n",
       "    <tr>\n",
       "      <th>Baja California Sur</th>\n",
       "      <td>NaN</td>\n",
       "      <td>2.0</td>\n",
       "    </tr>\n",
       "    <tr>\n",
       "      <th>Ciudad de México</th>\n",
       "      <td>NaN</td>\n",
       "      <td>24.0</td>\n",
       "    </tr>\n",
       "    <tr>\n",
       "      <th>Coahuila de Zaragoza</th>\n",
       "      <td>NaN</td>\n",
       "      <td>7.0</td>\n",
       "    </tr>\n",
       "  </tbody>\n",
       "</table>\n",
       "</div>"
      ],
      "text/plain": [
       "                                  VNA    VA\n",
       "NOM_ENT                                    \n",
       "Campeche                          1.0   1.0\n",
       "Chiapas                          12.0   1.0\n",
       "Chihuahua                         2.0   7.0\n",
       "Colima                            1.0   1.0\n",
       "Durango                           1.0   3.0\n",
       "Guanajuato                       10.0   5.0\n",
       "Guerrero                          9.0   NaN\n",
       "Hidalgo                           4.0   3.0\n",
       "Jalisco                           4.0  16.0\n",
       "Michoacán de Ocampo               9.0   3.0\n",
       "Morelos                           3.0   2.0\n",
       "México                           13.0  28.0\n",
       "Nayarit                           1.0   2.0\n",
       "Nuevo León                        2.0  10.0\n",
       "Oaxaca                            9.0   1.0\n",
       "Puebla                           10.0   5.0\n",
       "Querétaro                         1.0   4.0\n",
       "Quintana Roo                      1.0   3.0\n",
       "San Luis Potosí                   4.0   3.0\n",
       "Sinaloa                           2.0   5.0\n",
       "Sonora                            2.0   5.0\n",
       "Tabasco                           4.0   2.0\n",
       "Tamaulipas                        2.0   7.0\n",
       "Tlaxcala                          3.0   NaN\n",
       "Veracruz de Ignacio de la Llave  14.0   6.0\n",
       "Yucatán                           2.0   3.0\n",
       "Zacatecas                         3.0   1.0\n",
       "Aguascalientes                    NaN   3.0\n",
       "Baja California                   NaN   8.0\n",
       "Baja California Sur               NaN   2.0\n",
       "Ciudad de México                  NaN  24.0\n",
       "Coahuila de Zaragoza              NaN   7.0"
      ]
     },
     "execution_count": 15,
     "metadata": {},
     "output_type": "execute_result"
    }
   ],
   "source": [
    "DFV.head(32)"
   ]
  },
  {
   "cell_type": "code",
   "execution_count": 16,
   "id": "8ea5aa41",
   "metadata": {},
   "outputs": [],
   "source": [
    "# Con los datos ya clasificados aplicamos un modelo de Regresión Logistica \n",
    "from sklearn.model_selection import train_test_split\n",
    "X_train,X_test,y_train,y_test=train_test_split(X_pca,etiquetas,test_size=0.3)"
   ]
  },
  {
   "cell_type": "code",
   "execution_count": 17,
   "id": "4fc9c429",
   "metadata": {},
   "outputs": [
    {
     "name": "stdout",
     "output_type": "stream",
     "text": [
      "210\n",
      "90\n"
     ]
    }
   ],
   "source": [
    "print(len(X_train))\n",
    "print(len(X_test))"
   ]
  },
  {
   "cell_type": "code",
   "execution_count": 18,
   "id": "51633047",
   "metadata": {},
   "outputs": [],
   "source": [
    "from sklearn.linear_model import LogisticRegression\n",
    "\n",
    "lr = LogisticRegression(multi_class='auto', solver='liblinear')\n",
    "lr.fit(X_train,y_train)\n",
    "y_pred = lr.predict(X_test)"
   ]
  },
  {
   "cell_type": "code",
   "execution_count": 19,
   "id": "1052893f",
   "metadata": {},
   "outputs": [
    {
     "data": {
      "image/png": "[encoded data removed]",
      "text/plain": [
       "<Figure size 432x288 with 1 Axes>"
      ]
     },
     "metadata": {
      "needs_background": "light"
     },
     "output_type": "display_data"
    }
   ],
   "source": [
    "from mlxtend.plotting import plot_decision_regions\n",
    "plot_decision_regions(X_train,y_train,clf=lr,legend=2)\n",
    "plt.xlabel('PC1')\n",
    "plt.ylabel('PC2')\n",
    "#plt.savefig('./imagenes/LRTrain.png',dpi=300)\n",
    "plt.show()"
   ]
  },
  {
   "cell_type": "code",
   "execution_count": 20,
   "id": "a2263a19",
   "metadata": {},
   "outputs": [
    {
     "data": {
      "image/png": "[encoded data removed]",
      "text/plain": [
       "<Figure size 432x288 with 1 Axes>"
      ]
     },
     "metadata": {
      "needs_background": "light"
     },
     "output_type": "display_data"
    }
   ],
   "source": [
    "plot_decision_regions(X_test,y_test,clf=lr,legend=2)\n",
    "plt.xlabel('PC1')\n",
    "plt.ylabel('PC2')\n",
    "#plt.savefig('./imagenes/LRTest.png',dpi=300)\n",
    "plt.show()"
   ]
  },
  {
   "cell_type": "code",
   "execution_count": 21,
   "id": "0f953c1b",
   "metadata": {},
   "outputs": [
    {
     "data": {
      "text/plain": [
       "0.9888888888888889"
      ]
     },
     "execution_count": 21,
     "metadata": {},
     "output_type": "execute_result"
    }
   ],
   "source": [
    "lr.score(X_test, y_test)"
   ]
  },
  {
   "cell_type": "code",
   "execution_count": 22,
   "id": "ccc912f3",
   "metadata": {},
   "outputs": [
    {
     "data": {
      "image/png": "[encoded data removed]",
      "text/plain": [
       "<Figure size 432x288 with 2 Axes>"
      ]
     },
     "metadata": {
      "needs_background": "light"
     },
     "output_type": "display_data"
    }
   ],
   "source": [
    "from sklearn.metrics import plot_confusion_matrix\n",
    "plot_confusion_matrix(lr, X_test, y_test)  \n",
    "#plt.savefig('./imagenes/ConfusionMatrix.png',dpi=300)\n",
    "plt.show()"
   ]
  }
 ],
 "metadata": {
  "kernelspec": {
   "display_name": "Python 3",
   "language": "python",
   "name": "python3"
  },
  "language_info": {
   "codemirror_mode": {
    "name": "ipython",
    "version": 3
   },
   "file_extension": ".py",
   "mimetype": "text/x-python",
   "name": "python",
   "nbconvert_exporter": "python",
   "pygments_lexer": "ipython3",
   "version": "3.8.8"
  }
 },
 "nbformat": 4,
 "nbformat_minor": 5
}

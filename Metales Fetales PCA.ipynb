{
 "cells": [
  {
   "cell_type": "markdown",
   "metadata": {},
   "source": [
    "# Análisis de Componentes Principales \n",
    "## Callejas Hernández Edgar \n",
    "\n",
    "\n",
    "### Cuando trabajamos con datos (Muestras) casi siempre hay variables redundantes, es decir que no aportan información. \n",
    "\n",
    "### Por lo anterior es necesario reducir la dimiensión de nuestros datos y tener la mayor variabilidad de estos para lograr mejores estimadores .\n",
    "\n",
    "### Un método lineal que reduce la dimensión de nuestros datos es PCA (Principal Componet Analysis), el cuál se centra en maximizar la varianza con el uso de los eigenvalores y eigenvectores de la matriz de covarianzas.\n",
    "\n",
    "\n",
    "### En este ejemplo se utiliza un conjunto de datos **Metales Fetales** que representan diferentes mediciones de metales en la sangre durante el periodo fetal."
   ]
  },
  {
   "cell_type": "code",
   "execution_count": 40,
   "metadata": {},
   "outputs": [],
   "source": [
    "# Importamos librerias \n",
    "import pandas as pd \n",
    "import numpy as np\n",
    "import matplotlib.pyplot as plt"
   ]
  },
  {
   "cell_type": "code",
   "execution_count": 41,
   "metadata": {
    "scrolled": true
   },
   "outputs": [
    {
     "data": {
      "text/html": [
       "<div>\n",
       "<style scoped>\n",
       "    .dataframe tbody tr th:only-of-type {\n",
       "        vertical-align: middle;\n",
       "    }\n",
       "\n",
       "    .dataframe tbody tr th {\n",
       "        vertical-align: top;\n",
       "    }\n",
       "\n",
       "    .dataframe thead th {\n",
       "        text-align: right;\n",
       "    }\n",
       "</style>\n",
       "<table border=\"1\" class=\"dataframe\">\n",
       "  <thead>\n",
       "    <tr style=\"text-align: right;\">\n",
       "      <th></th>\n",
       "      <th>PL Pb [ng/g]</th>\n",
       "      <th>PL Mn [ng/g]</th>\n",
       "      <th>PL Cd [ng/g]</th>\n",
       "      <th>PL As [ng/g]</th>\n",
       "      <th>BPb [ug/dL]</th>\n",
       "      <th>BMn [ug/dL]</th>\n",
       "      <th>BCd [ug/dL]</th>\n",
       "      <th>BAs [ug/dL]</th>\n",
       "      <th>BMg[µg/dL]</th>\n",
       "      <th>BAl[µg/dL]</th>\n",
       "      <th>BV[µg/dL]</th>\n",
       "      <th>BCr[µg/dL]</th>\n",
       "      <th>BCo[µg/dL]</th>\n",
       "      <th>BNi[µg/dL]</th>\n",
       "      <th>BCu[µg/dL]</th>\n",
       "      <th>BZn[µg/dL]</th>\n",
       "      <th>BSe[µg/dL]</th>\n",
       "    </tr>\n",
       "  </thead>\n",
       "  <tbody>\n",
       "    <tr>\n",
       "      <th>0</th>\n",
       "      <td>8.875241</td>\n",
       "      <td>46.442662</td>\n",
       "      <td>7.194834</td>\n",
       "      <td>1.556906</td>\n",
       "      <td>7.806534</td>\n",
       "      <td>4.773283</td>\n",
       "      <td>0.012932</td>\n",
       "      <td>0.046794</td>\n",
       "      <td>3596.694633</td>\n",
       "      <td>2.346228</td>\n",
       "      <td>0.031981</td>\n",
       "      <td>0.167212</td>\n",
       "      <td>0.041849</td>\n",
       "      <td>0.341802</td>\n",
       "      <td>84.404811</td>\n",
       "      <td>226.164258</td>\n",
       "      <td>21.149364</td>\n",
       "    </tr>\n",
       "    <tr>\n",
       "      <th>1</th>\n",
       "      <td>2.659360</td>\n",
       "      <td>34.241819</td>\n",
       "      <td>0.748142</td>\n",
       "      <td>1.214379</td>\n",
       "      <td>1.235290</td>\n",
       "      <td>7.649825</td>\n",
       "      <td>0.001257</td>\n",
       "      <td>0.028550</td>\n",
       "      <td>4523.072275</td>\n",
       "      <td>0.940128</td>\n",
       "      <td>0.027551</td>\n",
       "      <td>0.059222</td>\n",
       "      <td>0.016790</td>\n",
       "      <td>0.109660</td>\n",
       "      <td>87.327431</td>\n",
       "      <td>258.080366</td>\n",
       "      <td>23.418651</td>\n",
       "    </tr>\n",
       "    <tr>\n",
       "      <th>2</th>\n",
       "      <td>3.499838</td>\n",
       "      <td>35.432407</td>\n",
       "      <td>0.593696</td>\n",
       "      <td>1.555543</td>\n",
       "      <td>0.943575</td>\n",
       "      <td>1.621677</td>\n",
       "      <td>0.052983</td>\n",
       "      <td>0.072513</td>\n",
       "      <td>4802.405469</td>\n",
       "      <td>4.883834</td>\n",
       "      <td>0.134427</td>\n",
       "      <td>0.316678</td>\n",
       "      <td>0.111323</td>\n",
       "      <td>0.873659</td>\n",
       "      <td>92.256077</td>\n",
       "      <td>368.302296</td>\n",
       "      <td>15.395020</td>\n",
       "    </tr>\n",
       "  </tbody>\n",
       "</table>\n",
       "</div>"
      ],
      "text/plain": [
       "   PL Pb [ng/g]  PL Mn [ng/g]  PL Cd [ng/g]  PL As [ng/g]  BPb [ug/dL]  \\\n",
       "0      8.875241     46.442662      7.194834      1.556906     7.806534   \n",
       "1      2.659360     34.241819      0.748142      1.214379     1.235290   \n",
       "2      3.499838     35.432407      0.593696      1.555543     0.943575   \n",
       "\n",
       "   BMn [ug/dL]  BCd [ug/dL]  BAs [ug/dL]   BMg[µg/dL]  BAl[µg/dL]  BV[µg/dL]  \\\n",
       "0     4.773283     0.012932     0.046794  3596.694633    2.346228   0.031981   \n",
       "1     7.649825     0.001257     0.028550  4523.072275    0.940128   0.027551   \n",
       "2     1.621677     0.052983     0.072513  4802.405469    4.883834   0.134427   \n",
       "\n",
       "   BCr[µg/dL]  BCo[µg/dL]  BNi[µg/dL]  BCu[µg/dL]  BZn[µg/dL]  BSe[µg/dL]  \n",
       "0    0.167212    0.041849    0.341802   84.404811  226.164258   21.149364  \n",
       "1    0.059222    0.016790    0.109660   87.327431  258.080366   23.418651  \n",
       "2    0.316678    0.111323    0.873659   92.256077  368.302296   15.395020  "
      ]
     },
     "execution_count": 41,
     "metadata": {},
     "output_type": "execute_result"
    }
   ],
   "source": [
    "# Cargamos los datos \n",
    "df = pd.read_excel('./tarea1-cp-metales-fetales.xlsx',usecols=\"E:L,N:V\")\n",
    "df.head(3)"
   ]
  },
  {
   "cell_type": "code",
   "execution_count": 42,
   "metadata": {},
   "outputs": [],
   "source": [
    "# Quitamos las filas que no tienen información \n",
    "cleanData=df.dropna(axis=0)"
   ]
  },
  {
   "cell_type": "code",
   "execution_count": 43,
   "metadata": {},
   "outputs": [],
   "source": [
    "# Estandarizamos los datos \n",
    "from sklearn.preprocessing import StandardScaler\n",
    "sc = StandardScaler()\n",
    "X_std = sc.fit_transform(cleanData.values)"
   ]
  },
  {
   "cell_type": "markdown",
   "metadata": {},
   "source": [
    "Calculamos la matriz de covarianzas, asi como sus  eigenvalores y eigenvectores\n",
    "\n",
    "$C_{X} = \\frac{1}{n}XX^T$"
   ]
  },
  {
   "cell_type": "code",
   "execution_count": 44,
   "metadata": {},
   "outputs": [
    {
     "name": "stdout",
     "output_type": "stream",
     "text": [
      "Eigenvals:\n",
      " [6.14682004e+00 4.17060541e+00 1.97687259e+00 1.57143330e+00\n",
      " 1.09032444e+00 9.36462572e-01 5.49702300e-01 3.28689011e-01\n",
      " 2.36832709e-01 1.89051085e-01 1.09861011e-03 2.94706704e-02\n",
      " 2.07954538e-02 6.27571448e-02 5.88814026e-02 1.21711618e-01\n",
      " 1.38121272e-01]\n"
     ]
    }
   ],
   "source": [
    "cov_mat = np.cov(X_std.T)\n",
    "eigen_vals, eigen_vecs = np.linalg.eig(cov_mat)\n",
    "print('Eigenvals:\\n', eigen_vals)"
   ]
  },
  {
   "cell_type": "code",
   "execution_count": 45,
   "metadata": {},
   "outputs": [
    {
     "name": "stdout",
     "output_type": "stream",
     "text": [
      "Suma total de los eigenvalores =  17.62962962962963\n"
     ]
    }
   ],
   "source": [
    "tot = sum(eigen_vals)\n",
    "print('Suma total de los eigenvalores = ',tot)\n",
    "var_exp = [ev/tot for ev in sorted(eigen_vals, reverse=True)]\n",
    "cum_var_exp = np.cumsum(var_exp)\n",
    "eigen_par = [(np.abs(eigen_vals[i]),eigen_vecs[i])\n",
    "            for i in range(len(eigen_vals))]\n",
    "eigen_par.sort(key=lambda k: k[0], reverse=True)"
   ]
  },
  {
   "cell_type": "code",
   "execution_count": 46,
   "metadata": {
    "scrolled": true
   },
   "outputs": [
    {
     "name": "stdout",
     "output_type": "stream",
     "text": [
      "p = \n",
      " [[ 0.29772652  0.22542213]\n",
      " [-0.25595255 -0.28698084]\n",
      " [-0.22823357 -0.30738226]\n",
      " [ 0.06801087  0.02947889]\n",
      " [-0.09994176 -0.26790631]\n",
      " [-0.18384556 -0.20489034]\n",
      " [-0.15550504 -0.01547291]\n",
      " [ 0.17336365 -0.03301082]\n",
      " [-0.21448519  0.24008141]\n",
      " [ 0.03742813  0.13004694]\n",
      " [-0.13879198  0.08317655]\n",
      " [ 0.47531955 -0.30474132]\n",
      " [-0.01720471 -0.03164328]\n",
      " [-0.59129684  0.19325811]\n",
      " [-0.2075706  -0.30436986]\n",
      " [ 0.0739466  -0.23496672]\n",
      " [-0.0053471   0.54392441]]\n"
     ]
    }
   ],
   "source": [
    "# Seleccionamos la primeras N Componentes principales \n",
    "NPComponents = 2\n",
    "listaEP = [eigen_par[i][1][:,np.newaxis] for i in range(NPComponents)]\n",
    "p = np.hstack( listaEP )\n",
    "print('p = \\n', p)"
   ]
  },
  {
   "cell_type": "code",
   "execution_count": 47,
   "metadata": {},
   "outputs": [
    {
     "name": "stdout",
     "output_type": "stream",
     "text": [
      "Primera muestra original de dimensión 17: \n",
      " [-1.16804310e-01  2.18601150e-01  3.42715708e+00  1.19105177e-01\n",
      "  2.47215986e+00 -1.99034034e-01  2.91075111e-01 -2.70889891e-02\n",
      " -5.79254987e-01 -3.33169904e-01 -3.84817154e-01  2.97724484e-01\n",
      "  2.01200614e-03  3.73597528e-01  4.53195364e-01 -1.54026322e-01\n",
      " -1.57367808e-01]\n",
      "Primera muestra proyectada en una dimensión 2: \n",
      " [-1.14412394 -2.1844773 ]\n"
     ]
    }
   ],
   "source": [
    "print('Primera muestra original de dimensión 17: \\n', X_std[0])\n",
    "print('Primera muestra proyectada en una dimensión 2: \\n', X_std[0].dot(p))"
   ]
  },
  {
   "cell_type": "code",
   "execution_count": 48,
   "metadata": {},
   "outputs": [
    {
     "name": "stdout",
     "output_type": "stream",
     "text": [
      "Datos reducidos de 17 a 2 dimensiones:\n",
      " [[-1.14412394 -2.1844773 ]\n",
      " [-0.33112563  0.45180157]\n",
      " [-0.67221778 -0.2915653 ]\n",
      " [-0.05912027  0.71285251]\n",
      " [-0.18215846  0.74847886]\n",
      " [ 0.58289595  0.87754613]\n",
      " [ 0.25150307  0.28731317]\n",
      " [-0.47237889  0.80252585]\n",
      " [ 0.38876562 -1.67802563]\n",
      " [-0.17109532  0.23747262]\n",
      " [-0.13168891  0.2736237 ]\n",
      " [-0.26315901  0.36925428]\n",
      " [-1.4286741  -2.22763128]\n",
      " [ 0.18141665  0.75433863]\n",
      " [ 0.49162185  1.33164765]\n",
      " [ 0.45264127  0.25244377]\n",
      " [-0.39269111 -2.6078842 ]\n",
      " [ 0.12814959 -0.67367012]\n",
      " [ 0.46506723  0.55708418]\n",
      " [-0.15471254  0.56648498]\n",
      " [-0.10469001 -0.54292278]\n",
      " [ 1.39716798 -0.11394906]\n",
      " [-0.99544459  0.2659647 ]\n",
      " [ 0.22017829  0.72180567]\n",
      " [ 1.09627251  0.52373434]\n",
      " [ 0.46343018 -0.27260051]\n",
      " [ 0.60466256  0.07320565]\n",
      " [-0.2204922   0.7851479 ]]\n"
     ]
    }
   ],
   "source": [
    "X_pca = X_std.dot(p)\n",
    "print('Datos reducidos de 17 a 2 dimensiones:\\n',X_pca)"
   ]
  },
  {
   "cell_type": "code",
   "execution_count": 49,
   "metadata": {},
   "outputs": [
    {
     "data": {
      "text/plain": [
       "Text(0.5, 1.0, 'Datos proyectados en una dimensión de 2')"
      ]
     },
     "execution_count": 49,
     "metadata": {},
     "output_type": "execute_result"
    },
    {
     "data": {
      "image/png": "[encoded data removed]",
      "text/plain": [
       "<Figure size 432x288 with 1 Axes>"
      ]
     },
     "metadata": {
      "needs_background": "light"
     },
     "output_type": "display_data"
    }
   ],
   "source": [
    "plt.scatter(X_pca[:,0],X_pca[:,1],c='green',marker='*')\n",
    "plt.title('Datos proyectados en una dimensión de 2')"
   ]
  },
  {
   "cell_type": "markdown",
   "metadata": {},
   "source": [
    "### En conclusión, este método reduce la dimensionalidad pero no nos dice que variables originales son, por lo que no podemos dar un nombre a las nuevas variables. "
   ]
  }
 ],
 "metadata": {
  "kernelspec": {
   "display_name": "Python 3",
   "language": "python",
   "name": "python3"
  },
  "language_info": {
   "codemirror_mode": {
    "name": "ipython",
    "version": 3
   },
   "file_extension": ".py",
   "mimetype": "text/x-python",
   "name": "python",
   "nbconvert_exporter": "python",
   "pygments_lexer": "ipython3",
   "version": "3.8.8"
  },
  "latex_envs": {
   "LaTeX_envs_menu_present": true,
   "autoclose": true,
   "autocomplete": true,
   "bibliofile": "biblio.bib",
   "cite_by": "apalike",
   "current_citInitial": 1,
   "eqLabelWithNumbers": true,
   "eqNumInitial": 1,
   "hotkeys": {
    "equation": "Ctrl-E",
    "itemize": "Ctrl-I"
   },
   "labels_anchors": false,
   "latex_user_defs": true,
   "report_style_numbering": false,
   "user_envs_cfg": false
  }
 },
 "nbformat": 4,
 "nbformat_minor": 4
}
